{
 "cells": [
  {
   "cell_type": "markdown",
   "id": "dcbc0cbb",
   "metadata": {},
   "source": [
    "### Question\n",
    "1. Why are functions advantageous to have in your programs?\n",
    "### Answer\n",
    "- Function reduces redundancy in your code.\n",
    "- Function makes code short, easier to read, and to update.\n",
    "- It increases code reusability."
   ]
  },
  {
   "cell_type": "markdown",
   "id": "93ac5074",
   "metadata": {},
   "source": [
    "### Question\n",
    "2. When does the code in a function run: when it's specified or when it's called?\n",
    "### Answer\n",
    "The code in a function runs when it's called *not* when it's specified."
   ]
  },
  {
   "cell_type": "markdown",
   "id": "b1b90123",
   "metadata": {},
   "source": [
    "### Question\n",
    "3. What statement creates a function?\n",
    "### Answer\n",
    "def statement is used to create a function.\n",
    "``` python\n",
    "def function_name(parameter_name):\n",
    "    #function body\n",
    "    return value\n",
    "```"
   ]
  },
  {
   "cell_type": "markdown",
   "id": "cf488f3f",
   "metadata": {},
   "source": [
    "### Question\n",
    "4. What is the difference between a function and a function call?\n",
    "### Answer\n",
    "Function is block of code whereas function call is a way to run function code. The code in a function runs when it's called not when it's specified."
   ]
  },
  {
   "cell_type": "markdown",
   "id": "fe9eabbc",
   "metadata": {},
   "source": [
    "### Question\n",
    "5. How many global scopes are there in a Python program? How many local scopes?\n",
    "### Answer\n",
    "One global and One local"
   ]
  },
  {
   "cell_type": "markdown",
   "id": "554c19b3",
   "metadata": {},
   "source": [
    "### Question\n",
    "6. What happens to variables in a local scope when the function call returns?\n",
    "### Answer\n",
    "They are destroyed as soon as function stops it execution."
   ]
  },
  {
   "cell_type": "markdown",
   "id": "37585462",
   "metadata": {},
   "source": [
    "### Question\n",
    "7. What is the concept of a return value? Is it possible to have a return value in an expression?\n",
    "### Answer\n",
    "The return value can be thought of as a value that a function return after its execution. Yes it could be used in an expression."
   ]
  },
  {
   "cell_type": "markdown",
   "id": "1ed44e78",
   "metadata": {},
   "source": [
    "### Question\n",
    "8. If a function does not have a return statement, what is the return value of a call to that function?\n",
    "### Answer\n",
    "None is the return type of returned value."
   ]
  },
  {
   "cell_type": "markdown",
   "id": "5afd90d0",
   "metadata": {},
   "source": [
    "### Question\n",
    "9. How do you make a function variable refer to the global variable?\n",
    "### Answer\n",
    "If you want to refer to a global variable inside a function, global keyword can be used to declare which variables are global."
   ]
  },
  {
   "cell_type": "markdown",
   "id": "e2dd95d1",
   "metadata": {},
   "source": [
    "### Question\n",
    "10. What is the data type of None?\n",
    "### Answer \n",
    "NoneType"
   ]
  },
  {
   "cell_type": "markdown",
   "id": "8c75804d",
   "metadata": {},
   "source": [
    "### Question\n",
    "11. What does the sentence import areallyourpetsnamederic do?\n",
    "### Answer\n",
    "That import statement imports a module named \"areallyourpetsnamederic\"."
   ]
  },
  {
   "cell_type": "markdown",
   "id": "90e8d276",
   "metadata": {},
   "source": [
    "### Question\n",
    "12. If you had a bacon() feature in a spam module, what would you call it after importing spam?\n",
    "### Answer\n",
    "``` python\n",
    "import spam\n",
    "spam.bacon()\n",
    "```"
   ]
  },
  {
   "cell_type": "markdown",
   "id": "578136f4",
   "metadata": {},
   "source": [
    "### Question\n",
    "13. What can you do to save a programme from crashing if it encounters an error?\n",
    "### Answer\n",
    "We could use error handling clauses like try and catch to handle the error explicitly."
   ]
  },
  {
   "cell_type": "markdown",
   "id": "f81e7245",
   "metadata": {},
   "source": [
    "### Question\n",
    "14. What is the purpose of the try clause? What is the purpose of the except clause?\n",
    "### Answer\n",
    "First the code is passed on to try block to see if there is any exception or not. As soon as try block gets an exception it switches to except block."
   ]
  },
  {
   "cell_type": "code",
   "execution_count": null,
   "id": "40a6c770",
   "metadata": {},
   "outputs": [],
   "source": []
  }
 ],
 "metadata": {
  "kernelspec": {
   "display_name": "Python 3",
   "language": "python",
   "name": "python3"
  },
  "language_info": {
   "codemirror_mode": {
    "name": "ipython",
    "version": 3
   },
   "file_extension": ".py",
   "mimetype": "text/x-python",
   "name": "python",
   "nbconvert_exporter": "python",
   "pygments_lexer": "ipython3",
   "version": "3.8.8"
  }
 },
 "nbformat": 4,
 "nbformat_minor": 5
}
