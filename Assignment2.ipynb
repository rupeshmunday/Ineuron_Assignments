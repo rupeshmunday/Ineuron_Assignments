{
 "cells": [
  {
   "cell_type": "markdown",
   "id": "81c0b9b1",
   "metadata": {},
   "source": [
    "### Question\n",
    "1.What are the two values of the Boolean data type? How do you write them?\n",
    "### Answer\n",
    "- True\n",
    "- False <br>\n",
    "**Note** :- It could be assigned to a variable easily in this manner <br>"
   ]
  },
  {
   "cell_type": "code",
   "execution_count": 1,
   "id": "4a9049de",
   "metadata": {},
   "outputs": [
    {
     "data": {
      "text/plain": [
       "bool"
      ]
     },
     "execution_count": 1,
     "metadata": {},
     "output_type": "execute_result"
    }
   ],
   "source": [
    "a = False;\n",
    "type(a)"
   ]
  },
  {
   "cell_type": "code",
   "execution_count": 2,
   "id": "8744131d",
   "metadata": {},
   "outputs": [
    {
     "data": {
      "text/plain": [
       "bool"
      ]
     },
     "execution_count": 2,
     "metadata": {},
     "output_type": "execute_result"
    }
   ],
   "source": [
    "a = True;\n",
    "type(a)"
   ]
  },
  {
   "cell_type": "markdown",
   "id": "cb3ed56b",
   "metadata": {},
   "source": [
    "### Question\n",
    "2. What are the three different types of Boolean operators?\n",
    "### Answer \n",
    "- And (&& or \"and\") :- It requiers both operands to be true.\n",
    "- Or (|| or \"or\") :- It requires any one operands to be true.\n",
    "- Not (not) :- As the name suggest it reciprocals the given condition."
   ]
  },
  {
   "cell_type": "markdown",
   "id": "bd32fd4b",
   "metadata": {},
   "source": [
    "### Question\n",
    "3. Make a list of each Boolean operator&#39;s truth tables (i.e. every possible combination of Boolean\n",
    "values for the operator and what it evaluate ).\n",
    "### Answer\n"
   ]
  },
  {
   "cell_type": "code",
   "execution_count": 3,
   "id": "b46bffbf",
   "metadata": {},
   "outputs": [
    {
     "name": "stdout",
     "output_type": "stream",
     "text": [
      "And List Printed Last column is output\n",
      "[0, 0, 0]\n",
      "[0, 1, 0]\n",
      "[1, 1, 1]\n",
      "Or List Printed Last column is output\n",
      "[0, 0, 0]\n",
      "[0, 1, 1]\n",
      "[1, 1, 1]\n",
      "Not List Printed Last column is output\n",
      "[0, 1]\n",
      "[1, 0]\n"
     ]
    }
   ],
   "source": [
    "andList = [[0, 0 ,0],[0,1,0],[1,1,1]]\n",
    "orList = [[0, 0 ,0],[0,1,1],[1,1,1]]\n",
    "notList = [[0, 1],[1,0]]\n",
    "print(\"And List Printed Last column is output\")\n",
    "for i in andList:\n",
    "    print(i)\n",
    "print(\"Or List Printed Last column is output\")\n",
    "for i in orList:\n",
    "    print(i)\n",
    "print(\"Not List Printed Last column is output\")\n",
    "for i in notList:\n",
    "    print(i)"
   ]
  },
  {
   "cell_type": "markdown",
   "id": "6f8ec5b3",
   "metadata": {},
   "source": [
    "### Question\n",
    "4. What are the values of the following expressions?\n",
    "- (5 &gt; 4) and (3 == 5)\n",
    "- not (5 &gt; 4)\n",
    "- (5 &gt; 4) or (3 == 5)\n",
    "- not ((5 &gt; 4) or (3 == 5))\n",
    "- (True and True) and (True == False)\n",
    "- (not False) or (not True)\n",
    "### Answer\n",
    "- False\n",
    "- False\n",
    "- True\n",
    "- False\n",
    "- False\n",
    "- True"
   ]
  },
  {
   "cell_type": "code",
   "execution_count": 4,
   "id": "6b737e22",
   "metadata": {},
   "outputs": [
    {
     "name": "stdout",
     "output_type": "stream",
     "text": [
      "False\n",
      "False\n",
      "True\n",
      "False\n",
      "False\n",
      "True\n"
     ]
    }
   ],
   "source": [
    "print((5 > 4) and (3 == 5))\n",
    "print(not (5 > 4))\n",
    "print((5 > 4) or (3 == 5))\n",
    "print(not ((5 > 4) or (3 == 5)))\n",
    "print((True and True) and (True == False))\n",
    "print((not False) or (not True))"
   ]
  },
  {
   "cell_type": "markdown",
   "id": "a2e67762",
   "metadata": {},
   "source": [
    "### Question\n",
    "5. What are the six comparison operators?\n",
    "### Answer\n",
    "- \"<\" less than\n",
    "- \">\" greater than\n",
    "- \"<=\" less than equal to\n",
    "- \">=\" greater than equal to\n",
    "- \"==\" equal to\n",
    "- \"!=\" not equal to"
   ]
  },
  {
   "cell_type": "markdown",
   "id": "f632fdd6",
   "metadata": {},
   "source": [
    "### Question\n",
    "6. How do you tell the difference between the equal to and assignment operators?Describe a\n",
    "condition and when you would use one.\n",
    "### Answer\n",
    "- Assignment Operator \"=\" is used for assigning the value to a variable. For e.g. **a = 17** <br>\n",
    "- Equal to Operator \"==\" is used for comapring the value of two variables. For e.g. **a== 17**\n"
   ]
  },
  {
   "cell_type": "markdown",
   "id": "2566bd77",
   "metadata": {},
   "source": [
    "### Question\n",
    "7. Identify the three blocks in this code:\n",
    "``` python\n",
    "spam = 0\n",
    "if spam == 10:\n",
    "print(&#39;eggs&#39;)\n",
    "if spam &gt; 5:\n",
    "print(&#39;bacon&#39;)\n",
    "else:\n",
    "print(&#39;ham&#39;)\n",
    "print(&#39;spam&#39;)\n",
    "print(&#39;spam&#39;)\n",
    "```\n",
    "### Answer\n",
    "``` python\n",
    "spam = 0  # \n",
    "if spam == 10: # 1st block\n",
    "    print(\"eggs\")  \n",
    "if spam > 5: # 2nd block \n",
    "    print(\"bacon\")\n",
    "else: # 3rd block\n",
    "    print(\"ham\")\n",
    "    print(\"spam\")\n",
    "    print(\"spam\");\n",
    "```"
   ]
  },
  {
   "cell_type": "markdown",
   "id": "b0916d31",
   "metadata": {},
   "source": [
    "### Question\n",
    "8. Write code that prints Hello if 1 is stored in spam, prints Howdy if 2 is stored in spam, and prints\n",
    "Greetings! if anything else is stored in spam.\n",
    "### Answer"
   ]
  },
  {
   "cell_type": "code",
   "execution_count": 5,
   "id": "dca62898",
   "metadata": {},
   "outputs": [
    {
     "name": "stdout",
     "output_type": "stream",
     "text": [
      "Enter a no.5\n",
      "Greetings!!!\n"
     ]
    }
   ],
   "source": [
    "spam = input(\"Enter a no.\")\n",
    "def demo(spam):\n",
    "    if spam == '1' :\n",
    "        print(\"Hello\")\n",
    "    elif spam == '2' :\n",
    "        print(\"Howdy\")\n",
    "    else:\n",
    "        print(\"Greetings!!!\")\n",
    "demo(spam)"
   ]
  },
  {
   "cell_type": "markdown",
   "id": "082fc765",
   "metadata": {},
   "source": [
    "### Question\n",
    "9.If your programme is stuck in an endless loop, what keys you’ll press?\n",
    "### Answer \n",
    "**ctrl + c** because it will stop the execuion."
   ]
  },
  {
   "cell_type": "markdown",
   "id": "ff850b3e",
   "metadata": {},
   "source": [
    "### Question\n",
    "10. How can you tell the difference between break and continue?\n",
    "### Answer\n",
    "**break** is used to break a loop both for or while. <br>\n",
    "**continue** is used to skip current iteration."
   ]
  },
  {
   "cell_type": "code",
   "execution_count": 6,
   "id": "92a573bc",
   "metadata": {},
   "outputs": [
    {
     "name": "stdout",
     "output_type": "stream",
     "text": [
      "Code for break statement : \n",
      "1\n",
      "2\n",
      "3\n",
      "4\n",
      "Code for continue statement : \n",
      "1\n",
      "2\n",
      "3\n",
      "4\n",
      "6\n",
      "7\n",
      "8\n",
      "9\n",
      "10\n"
     ]
    }
   ],
   "source": [
    "print(\"Code for break statement : \")\n",
    "for i in range(1,11,1):\n",
    "    if(i==5):\n",
    "        break;\n",
    "    print(i);\n",
    "print(\"Code for continue statement : \")\n",
    "for i in range(1,11,1):\n",
    "    if(i==5):\n",
    "        continue;\n",
    "    print(i);"
   ]
  },
  {
   "cell_type": "markdown",
   "id": "cc9d2469",
   "metadata": {},
   "source": [
    "### Question\n",
    "11. In a for loop, what is the difference between range(10), range(0, 10), and range(0, 10, 1)?\n",
    "### Answers\n",
    "there is no difference between any of them because for initialization and increment default values are set to be 0 and 1. "
   ]
  },
  {
   "cell_type": "code",
   "execution_count": 7,
   "id": "a39127a0",
   "metadata": {},
   "outputs": [
    {
     "name": "stdout",
     "output_type": "stream",
     "text": [
      "range(10):  \n",
      "0\n",
      "1\n",
      "2\n",
      "3\n",
      "4\n",
      "5\n",
      "6\n",
      "7\n",
      "8\n",
      "9\n",
      "range(0,10):  \n",
      "0\n",
      "1\n",
      "2\n",
      "3\n",
      "4\n",
      "5\n",
      "6\n",
      "7\n",
      "8\n",
      "9\n",
      "range(0,10,1):  \n",
      "0\n",
      "1\n",
      "2\n",
      "3\n",
      "4\n",
      "5\n",
      "6\n",
      "7\n",
      "8\n",
      "9\n"
     ]
    }
   ],
   "source": [
    "print(\"range(10):  \")\n",
    "for i in range(10):\n",
    "    print(i)\n",
    "print(\"range(0,10):  \")\n",
    "for i in range(0,10):\n",
    "    print(i)\n",
    "print(\"range(0,10,1):  \")\n",
    "for i in range(0,10,1):\n",
    "    print(i)"
   ]
  },
  {
   "cell_type": "markdown",
   "id": "b2a15d7f",
   "metadata": {},
   "source": [
    "### Question\n",
    "12. Write a short program that prints the numbers 1 to 10 using a for loop. Then write an equivalent\n",
    "program that prints the numbers 1 to 10 using a while loop.\n",
    "### Answer"
   ]
  },
  {
   "cell_type": "code",
   "execution_count": 8,
   "id": "ac714301",
   "metadata": {},
   "outputs": [
    {
     "name": "stdout",
     "output_type": "stream",
     "text": [
      "Using For Loop \n",
      "1\n",
      "2\n",
      "3\n",
      "4\n",
      "5\n",
      "6\n",
      "7\n",
      "8\n",
      "9\n",
      "10\n",
      "Using While Loop\n",
      "1\n",
      "2\n",
      "3\n",
      "4\n",
      "5\n",
      "6\n",
      "7\n",
      "8\n",
      "9\n",
      "10\n"
     ]
    }
   ],
   "source": [
    "print(\"Using For Loop \")\n",
    "for i in range(1,11):\n",
    "    print(i)\n",
    "i=1;\n",
    "print(\"Using While Loop\")\n",
    "while(i<11):\n",
    "    print(i)\n",
    "    i+=1;"
   ]
  },
  {
   "cell_type": "markdown",
   "id": "018d1464",
   "metadata": {},
   "source": [
    "### Question\n",
    "13. If you had a function named bacon() inside a module named spam, how would you call it after\n",
    "importing spam?\n",
    "``` python\n",
    "import spam as sp\n",
    "a = sp.bacon()\n",
    "```"
   ]
  },
  {
   "cell_type": "code",
   "execution_count": null,
   "id": "9f0e7b32",
   "metadata": {},
   "outputs": [],
   "source": []
  }
 ],
 "metadata": {
  "kernelspec": {
   "display_name": "Python 3",
   "language": "python",
   "name": "python3"
  },
  "language_info": {
   "codemirror_mode": {
    "name": "ipython",
    "version": 3
   },
   "file_extension": ".py",
   "mimetype": "text/x-python",
   "name": "python",
   "nbconvert_exporter": "python",
   "pygments_lexer": "ipython3",
   "version": "3.8.8"
  }
 },
 "nbformat": 4,
 "nbformat_minor": 5
}
