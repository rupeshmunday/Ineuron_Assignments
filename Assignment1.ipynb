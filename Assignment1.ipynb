{
 "cells": [
  {
   "cell_type": "markdown",
   "id": "02186e20",
   "metadata": {},
   "source": [
    "### Question\n",
    "1. In the below elements which of them are values or an expression? eg:- values can be\n",
    "integer or string and expressions will be mathematical operators. <br>\n",
    "### Answer \n",
    "**\"*\"** - **expression**<br>\n",
    "**\"hello\"** - **values**<br>\n",
    "**\"-87.8\"** - **values** <br>\n",
    "**\"-\"** - **expression**<br>\n",
    "**\"/\"** - **expression**<br>\n",
    "**\"+\"** - **expression**<br>\n",
    "**\"6\"** - **values**<br>"
   ]
  },
  {
   "cell_type": "markdown",
   "id": "163f386d",
   "metadata": {},
   "source": [
    "### Question\n",
    "2. What is the difference between string and variable? <br>\n",
    "### Answer\n",
    "**string** could be defined as a datatype means type of data.usually some text type of data is used as string data. <br>\n",
    "**variable** could be defined as character which stores some value that could be later used. <br>\n",
    "**for e.g. name = \"Rupesh\" <br>**\n",
    "In the above example name is variable and Rupesh is string. "
   ]
  },
  {
   "cell_type": "markdown",
   "id": "e5d31bfc",
   "metadata": {},
   "source": [
    "### Question\n",
    "3. Describe three different data types.\n",
    "### Answer\n",
    "**Integer**:- It is a data type which refers to numeric data which is not in fraction or decimals. for **e.g. 16,32.**<br>\n",
    "**float** :- It is a data type which also refers to numeric data but it is in fraction or have decimal values. It shows more accurate value than integer. **e.g.16.32** <br>\n",
    "**string** :- It is a data type which refers to textual data. It could be used in programming with the help of quotes **e.g.\"Rupesh\"**<br>"
   ]
  },
  {
   "cell_type": "markdown",
   "id": "c57699fe",
   "metadata": {},
   "source": [
    "### Question\n",
    "4. What is an expression made up of? What do all expressions do?\n",
    "### Answer\n",
    "An **expression** could be defined as grouped *operands* and *operator* that try to solve some problem.They evaluate *operands* using *operator*.\n"
   ]
  },
  {
   "cell_type": "markdown",
   "id": "2cb4aceb",
   "metadata": {},
   "source": [
    "### Question \n",
    "5. This assignment statements, like spam = 10. What is the difference between an\n",
    "expression and a statement?\n",
    "### Answer\n",
    "An **expression** could be defined as grouped *operands* and *operator* that try to solve some problem whereas statement is just a line.\n",
    "**Note :-** Each expression is a statement in python but not viceversa."
   ]
  },
  {
   "cell_type": "markdown",
   "id": "5a16cac5",
   "metadata": {},
   "source": [
    "### Question \n",
    "6. After running the following code, what does the variable bacon contain? <br>\n",
    "bacon = 22 <br>\n",
    "bacon + 1\n",
    "### Answer"
   ]
  },
  {
   "cell_type": "code",
   "execution_count": 1,
   "id": "1ecc31ee",
   "metadata": {},
   "outputs": [
    {
     "data": {
      "text/plain": [
       "23"
      ]
     },
     "execution_count": 1,
     "metadata": {},
     "output_type": "execute_result"
    }
   ],
   "source": [
    "bacon = 22\n",
    "bacon + 1"
   ]
  },
  {
   "cell_type": "markdown",
   "id": "7d6688a7",
   "metadata": {},
   "source": [
    "### Question\n",
    "7. What should the values of the following two terms be? <br>\n",
    "&#39;spam&#39; + &#39;spamspam&#39; <br>\n",
    "&#39;spam&#39; * 3 <br>\n",
    "### Answer\n",
    "It will be same for both the statements."
   ]
  },
  {
   "cell_type": "code",
   "execution_count": 2,
   "id": "232489ae",
   "metadata": {},
   "outputs": [
    {
     "data": {
      "text/plain": [
       "'spamspamspam'"
      ]
     },
     "execution_count": 2,
     "metadata": {},
     "output_type": "execute_result"
    }
   ],
   "source": [
    "'spam' + 'spamspam'"
   ]
  },
  {
   "cell_type": "code",
   "execution_count": 3,
   "id": "96528667",
   "metadata": {},
   "outputs": [
    {
     "data": {
      "text/plain": [
       "'spamspamspam'"
      ]
     },
     "execution_count": 3,
     "metadata": {},
     "output_type": "execute_result"
    }
   ],
   "source": [
    "'spam' * 3"
   ]
  },
  {
   "cell_type": "markdown",
   "id": "1dedb75a",
   "metadata": {},
   "source": [
    "### Question\n",
    "8. Why is eggs a valid variable name while 100 is invalid?\n",
    "### Answer\n",
    "**100** is not a *valid* variable name because it does not start with an *alphabet*. **For a variable name** to be valid it should start with an *alphabet*."
   ]
  },
  {
   "cell_type": "markdown",
   "id": "0a315f94",
   "metadata": {},
   "source": [
    "### Question\n",
    "9. What three functions can be used to get the integer, floating-point number, or string\n",
    "version of a value?\n",
    "### Answer\n",
    "- **int()** <br>\n",
    "- **float()** <br>\n",
    "- **str()**"
   ]
  },
  {
   "cell_type": "markdown",
   "id": "4be71239",
   "metadata": {},
   "source": [
    "### Question\n",
    "10. Why does this expression cause an error? How can you fix it? <br>\n",
    "&#39;I have eaten &#39; + 99 + &#39; burritos.&#39;\n",
    "### Answer\n",
    "It causes an error because 99 is not a string so it cannot be contacenated with other strings."
   ]
  },
  {
   "cell_type": "code",
   "execution_count": 4,
   "id": "02bcf966",
   "metadata": {},
   "outputs": [
    {
     "data": {
      "text/plain": [
       "'I have eaten 99 burritos.'"
      ]
     },
     "execution_count": 4,
     "metadata": {},
     "output_type": "execute_result"
    }
   ],
   "source": [
    "'I have eaten ' + str(99) + ' burritos.'"
   ]
  },
  {
   "cell_type": "code",
   "execution_count": null,
   "id": "12e5d150",
   "metadata": {},
   "outputs": [],
   "source": []
  }
 ],
 "metadata": {
  "kernelspec": {
   "display_name": "Python 3",
   "language": "python",
   "name": "python3"
  },
  "language_info": {
   "codemirror_mode": {
    "name": "ipython",
    "version": 3
   },
   "file_extension": ".py",
   "mimetype": "text/x-python",
   "name": "python",
   "nbconvert_exporter": "python",
   "pygments_lexer": "ipython3",
   "version": "3.8.8"
  }
 },
 "nbformat": 4,
 "nbformat_minor": 5
}
