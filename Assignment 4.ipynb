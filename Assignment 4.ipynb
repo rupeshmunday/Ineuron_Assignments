{
 "cells": [
  {
   "cell_type": "markdown",
   "id": "ad827abe",
   "metadata": {},
   "source": [
    "### Question\n",
    "1. What exactly is []?\n",
    "### Answer\n",
    "empty list"
   ]
  },
  {
   "cell_type": "markdown",
   "id": "c51f3a8f",
   "metadata": {},
   "source": [
    "### Question\n",
    "2. In a list of values stored in a variable called spam, how would you assign the value &#39;hello&#39; as the\n",
    "third value? (Assume [2, 4, 6, 8, 10] are in spam.)\n",
    "### Answer"
   ]
  },
  {
   "cell_type": "code",
   "execution_count": 5,
   "id": "1066904a",
   "metadata": {},
   "outputs": [
    {
     "data": {
      "text/plain": [
       "[2, 4, 'hello', 8, 10]"
      ]
     },
     "execution_count": 5,
     "metadata": {},
     "output_type": "execute_result"
    }
   ],
   "source": [
    "spam = [2,4,6,8,10]\n",
    "spam[2] = \"hello\"\n",
    "spam"
   ]
  },
  {
   "cell_type": "code",
   "execution_count": 6,
   "id": "eea42714",
   "metadata": {},
   "outputs": [
    {
     "data": {
      "text/plain": [
       "[2, 4, 'hello', 6, 8, 10]"
      ]
     },
     "execution_count": 6,
     "metadata": {},
     "output_type": "execute_result"
    }
   ],
   "source": [
    "spam = [2,4,6,8,10]\n",
    "spam.insert(2,\"hello\")\n",
    "spam"
   ]
  },
  {
   "cell_type": "markdown",
   "id": "7bb70d25",
   "metadata": {},
   "source": [
    "## Let&#39;s pretend the spam includes the list [&#39;a&#39;, &#39;b&#39;, &#39;c&#39;, &#39;d&#39;] for the next three queries."
   ]
  },
  {
   "cell_type": "markdown",
   "id": "f874ae85",
   "metadata": {},
   "source": [
    "### Question\n",
    "3. What is the value of spam[int(int(&#39;3&#39; * 2) / 11)]?\n",
    "### Answer\n",
    "'d'"
   ]
  },
  {
   "cell_type": "markdown",
   "id": "83c8d967",
   "metadata": {},
   "source": [
    "### Question\n",
    "4. What is the value of spam[-1]?\n",
    "### Answer\n",
    "'d'"
   ]
  },
  {
   "cell_type": "markdown",
   "id": "b778cec6",
   "metadata": {},
   "source": [
    "### Question\n",
    "4. What is the value of spam[:2]?\n",
    "### Answer\n",
    "['a','b']"
   ]
  },
  {
   "cell_type": "markdown",
   "id": "662c558c",
   "metadata": {},
   "source": [
    "## Let&#39;s pretend bacon has the list [3.14, &#39;cat,&#39; 11, &#39;cat,&#39; True] for the next three questions.\n"
   ]
  },
  {
   "cell_type": "markdown",
   "id": "96d3e1f0",
   "metadata": {},
   "source": [
    "### Question\n",
    "6. What is the value of bacon.index(&#39;cat&#39;)?\n",
    "### Answer\n",
    "1"
   ]
  },
  {
   "cell_type": "markdown",
   "id": "5bf8c255",
   "metadata": {},
   "source": [
    "### Question\n",
    "7. How does bacon.append(99) change the look of the list value in bacon?\n",
    "### Answer\n",
    "``` python\n",
    "[3.14, 'cat,' 11, 'cat,' True, 99]\n",
    "```"
   ]
  },
  {
   "cell_type": "markdown",
   "id": "582ad5c8",
   "metadata": {},
   "source": [
    "### Question\n",
    "8.How does bacon.remove(&#39;cat&#39;) change the look of the list in bacon?\n",
    "### Answer\n",
    "``` python\n",
    "[3.14, 11, 'cat', True]\n",
    "```"
   ]
  },
  {
   "cell_type": "markdown",
   "id": "dead7ccd",
   "metadata": {},
   "source": [
    "### Question\n",
    "9. What are the list concatenation and list replication operators?\n",
    "### Answer \n",
    "- '+' :- concatenation\n",
    "- '*' :- replication"
   ]
  },
  {
   "cell_type": "code",
   "execution_count": 8,
   "id": "627759f8",
   "metadata": {},
   "outputs": [
    {
     "name": "stdout",
     "output_type": "stream",
     "text": [
      "[1, 2, 3, 4, 5, 6]\n",
      "[1, 2, 3, 1, 2, 3, 1, 2, 3]\n"
     ]
    }
   ],
   "source": [
    "l1=[1,2,3]\n",
    "l2=[4,5,6]\n",
    "print(l1+l2)\n",
    "print(l1*3)"
   ]
  },
  {
   "cell_type": "markdown",
   "id": "95cb6cce",
   "metadata": {},
   "source": [
    "### Question\n",
    "10. What is difference between the list methods append() and insert()?\n",
    "### Answer\n",
    "Append() :- It inserts the item at the end of list. <br>\n",
    "insert() :- It inserts the item before particular index given."
   ]
  },
  {
   "cell_type": "markdown",
   "id": "f8963e51",
   "metadata": {},
   "source": [
    "### Question\n",
    "11. What are the two methods for removing items from a list?\n",
    "### Answer\n",
    "- pop() :- deletes the item from the last index.\n",
    "-remove() :- deletes the first occurence of the given element."
   ]
  },
  {
   "cell_type": "markdown",
   "id": "613ba466",
   "metadata": {},
   "source": [
    "### Question\n",
    "12. Describe how list values and string values are identical.\n",
    "### Answer \n",
    "- Have indexes and slices\n",
    "- both can be used in for loops\n",
    "- both can be concatenated \n",
    "- both are passable to len function"
   ]
  },
  {
   "cell_type": "markdown",
   "id": "070c9fdc",
   "metadata": {},
   "source": [
    "### Question\n",
    "13. What&#39;s the difference between tuples and lists?\n",
    "### Answer\n",
    "Tuples :- uses '(' and ')' brackets for declaration. tuples are immutables. <br>\n",
    "List :- uses '[' and ']' brackets for decalaration. List are mutables.\n"
   ]
  },
  {
   "cell_type": "markdown",
   "id": "20243bef",
   "metadata": {},
   "source": [
    "### Question\n",
    "14. How do you type a tuple value that only contains the integer 42?\n",
    "### Answer"
   ]
  },
  {
   "cell_type": "code",
   "execution_count": 12,
   "id": "17767897",
   "metadata": {},
   "outputs": [
    {
     "name": "stdout",
     "output_type": "stream",
     "text": [
      "<class 'tuple'>\n"
     ]
    },
    {
     "data": {
      "text/plain": [
       "(42,)"
      ]
     },
     "execution_count": 12,
     "metadata": {},
     "output_type": "execute_result"
    }
   ],
   "source": [
    "tuples_ex = (42,)\n",
    "print(type(tuples_ex))\n",
    "tuples_ex"
   ]
  },
  {
   "cell_type": "markdown",
   "id": "204d08b9",
   "metadata": {},
   "source": [
    "### Question\n",
    "15. How do you get a list value&#39;s tuple form? How do you get a tuple value&#39;s list form?\n",
    "### Answer\n",
    "using tuple() and list() methods\n",
    "``` python\n",
    "tuple(list) # returns tuple values from list \n",
    "list(tuple) # return lsit values from tuples\n",
    "```"
   ]
  },
  {
   "cell_type": "markdown",
   "id": "19a2973c",
   "metadata": {},
   "source": [
    "### Question\n",
    "16. Variables that &quot;contain&quot; list values are not necessarily lists themselves. Instead, what do they\n",
    "contain?\n",
    "### Answer\n",
    "They contain references."
   ]
  },
  {
   "cell_type": "markdown",
   "id": "2bc2f0aa",
   "metadata": {},
   "source": [
    "### Question\n",
    "17. How do you distinguish between copy.copy() and copy.deepcopy()?\n",
    "### Answer\n",
    "copy.copy():- It will do a shallow copy of a list. <br>\n",
    "copy.deepcopy():- It will do a deep copy of a list.\n",
    "** \"Only copy.deepcopy() will duplicate the list inside list\" **\n"
   ]
  },
  {
   "cell_type": "code",
   "execution_count": null,
   "id": "ec5beb6f",
   "metadata": {},
   "outputs": [],
   "source": []
  },
  {
   "cell_type": "code",
   "execution_count": null,
   "id": "9bae308a",
   "metadata": {},
   "outputs": [],
   "source": []
  }
 ],
 "metadata": {
  "kernelspec": {
   "display_name": "Python 3",
   "language": "python",
   "name": "python3"
  },
  "language_info": {
   "codemirror_mode": {
    "name": "ipython",
    "version": 3
   },
   "file_extension": ".py",
   "mimetype": "text/x-python",
   "name": "python",
   "nbconvert_exporter": "python",
   "pygments_lexer": "ipython3",
   "version": "3.8.8"
  }
 },
 "nbformat": 4,
 "nbformat_minor": 5
}
